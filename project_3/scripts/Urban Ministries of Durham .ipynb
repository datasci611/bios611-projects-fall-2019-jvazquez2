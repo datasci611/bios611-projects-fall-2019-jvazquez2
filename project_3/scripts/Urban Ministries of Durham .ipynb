{
 "cells": [
  {
   "cell_type": "code",
   "execution_count": null,
   "metadata": {},
   "outputs": [],
   "source": [
    "# Importing packages \n",
    "import numpy as np\n",
    "from scipy import stats\n",
    "import scipy\n",
    "import pandas as pd\n",
    "import sys\n",
    "import math\n",
    "\n",
    "# Import Data\n",
    "my_client_original = pd.read_csv(\"https://raw.githubusercontent.com/biodatascience/datasci611/gh-pages/data/project2_2019/CLIENT_191102.tsv\", sep = '\\t')\n",
    "my_disability_entry_original = pd.read_csv(\"https://raw.githubusercontent.com/biodatascience/datasci611/gh-pages/data/project2_2019/DISABILITY_ENTRY_191102.tsv\", sep = '\\t')\n",
    "my_disability_exit_original = pd.read_csv(\"https://raw.githubusercontent.com/biodatascience/datasci611/gh-pages/data/project2_2019/DISABILITY_EXIT_191102.tsv\", sep = '\\t')"
   ]
  },
  {
   "cell_type": "code",
   "execution_count": null,
   "metadata": {},
   "outputs": [],
   "source": [
    "# Keep only variables of interesta and merge all datasets\n",
    "my_client = my_client_original[['Client ID', 'Client Age at Entry', 'Client Age at Exit', 'Client Gender', 'Client Primary Race', 'Client Ethnicity']]\n",
    "my_disability_entry = my_disability_entry_original[['Client ID','Disability Determination (Entry)', 'Disability Type (Entry)']]\n",
    "my_disability_entry.rename(columns = {'Disability Type (Entry)':'Disability Type'}, inplace = True)\n",
    "my_disability_exit = my_disability_exit_original[['Client ID','Disability Determination (Exit)', 'Disability Type (Exit)']] \n",
    "my_disability_exit.rename(columns = {'Disability Type (Exit)':'Disability Type'}, inplace = True)\n",
    "\n",
    "# Merge data by client ID\n",
    "my_disability = pd.merge(my_disability_entry, my_disability_exit, on=['Disability Type','Client ID'], how = 'right')\n",
    "my_disability.drop_duplicates(keep=False,inplace=True)\n",
    "\n",
    "# Flag those patients who got a disability while at the UMD\n",
    "my_disability['GotDisability'] = 0\n",
    "my_disability.GotDisability[(my_disability['Disability Determination (Entry)'] == 'No (HUD)') & (my_disability['Disability Determination (Exit)'] == 'Yes (HUD)')] = 1\n",
    "my_disability.mean()\n",
    "\n",
    "#Making a subset of those who got a disability \n",
    "my_disability = my_disability[my_disability.GotDisability == 1]\n",
    "my_disability.sort_values(by=['Client ID'], ascending=True)\n",
    "\n",
    "#Getting the socio-demographic characteristics of patients\n",
    "my_patients = pd.merge(my_disability, my_client, on = 'Client ID', how = 'left')\n",
    "my_patients.to_csv('patients_data_graph.csv')"
   ]
  }
 ],
 "metadata": {
  "kernelspec": {
   "display_name": "Python 3",
   "language": "python",
   "name": "python3"
  },
  "language_info": {
   "codemirror_mode": {
    "name": "ipython",
    "version": 3
   },
   "file_extension": ".py",
   "mimetype": "text/x-python",
   "name": "python",
   "nbconvert_exporter": "python",
   "pygments_lexer": "ipython3",
   "version": "3.7.4"
  }
 },
 "nbformat": 4,
 "nbformat_minor": 2
}
