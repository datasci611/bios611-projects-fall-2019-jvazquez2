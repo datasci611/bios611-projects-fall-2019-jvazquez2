{
 "cells": [
  {
   "cell_type": "code",
   "execution_count": 2,
   "metadata": {},
   "outputs": [],
   "source": [
    "# Importing packages \n",
    "import numpy as np\n",
    "import pandas as pd\n",
    "import sys\n",
    "import math\n",
    "import matplotlib.pyplot as plt"
   ]
  },
  {
   "cell_type": "markdown",
   "metadata": {},
   "source": [
    "**Part 1**\n",
    "\n",
    "Determine the financial performance of the organization from the Urban Ministries of Durham the first digit of the net income, expenses and income-expenses will be considered. Theoretically, this should follow a Bendford distribution and any deviations from this distribution would suggest fabricated numbers. This part of the project conducts the statistical analysis and R-studio will create the graph."
   ]
  },
  {
   "cell_type": "code",
   "execution_count": null,
   "metadata": {},
   "outputs": [],
   "source": [
    "# Import Data Tax Data \n",
    "df = pd.read_csv(r'C:\\Users\\15056\\Documents\\BIOS611\\bios611-projects-fall-2019-jvazquez2\\project_3\\data\\IRS.csv')\n",
    "df = df[df.Net >= 0]\n",
    "data = df['Net']"
   ]
  },
  {
   "cell_type": "markdown",
   "metadata": {},
   "source": [
    "The below code will count the first digit of each number. This part of the project was \n",
    "facilitated by Elena C. You can find the original code in her Github page: https://github.com/eleprocha/Benford-s-Law_python_code/blob/master/code Additional modifications of the code can be found below."
   ]
  },
  {
   "cell_type": "code",
   "execution_count": 36,
   "metadata": {},
   "outputs": [],
   "source": [
    "# Counting the first digit\n",
    "def count_first_digit(data_str):\n",
    "    mask=df[data_str]>1.\n",
    "    data=list(df[mask][data_str])\n",
    "    for i in range(len(data)):\n",
    "        while data[i]>10:\n",
    "            data[i]=data[i]/10\n",
    "    first_digits=[int(x) for x in sorted(data)]\n",
    "    unique=(set(first_digits))#a list with unique values of first_digit list\n",
    "    data_count=[]\n",
    "    for i in unique:\n",
    "        count=first_digits.count(i)\n",
    "        data_count.append(count)\n",
    "    total_count=sum(data_count)\n",
    "    data_percentage=[(i/total_count)*100 for i in data_count]\n",
    "    return  total_count,data_count, data_percentage\n",
    "\n",
    "total_count, data_count_pre, data_percentage_pre = count_first_digit(\"Net\")\n",
    "\n",
    "# In this case data_count_pre and data_percentage_pre have the format of [1,3,4,5,6,8]. \n",
    "# Need to add zeros for 2, 7, 9 \n",
    "data_count = []\n",
    "data_percentage = []\n",
    "j = 0\n",
    "for i in range(1,10):\n",
    "        if i in (2,7,9):\n",
    "            data_count.append(0)\n",
    "            data_percentage.append(0)\n",
    "        else:\n",
    "            data_count.append(data_count_pre[j])\n",
    "            data_percentage.append(data_percentage_pre[j])\n",
    "            j = j+1\n",
    "            \n",
    "            \n",
    "# Benford's Law percentages for leading digits 1-9\n",
    "BENFORD = [30.1, 17.6, 12.5, 9.7, 7.9, 6.7, 5.8, 5.1, 4.6]"
   ]
  },
  {
   "cell_type": "code",
   "execution_count": 44,
   "metadata": {},
   "outputs": [
    {
     "name": "stdout",
     "output_type": "stream",
     "text": [
      "\n",
      "Chi-squared Test Statistic = 9.500\n",
      "Critical value at a P-value of 0.05 is 15.51.\n"
     ]
    }
   ],
   "source": [
    "# Get the expected number of counts\n",
    "def get_expected_counts(total_count):\n",
    "    return [round(p * total_count / 100) for p in BENFORD]\n",
    "\n",
    "expected_counts=get_expected_counts(total_count)\n",
    "\n",
    "# Observed vs Expected  \n",
    "chi_square_stat = 0  # chi square test statistic\n",
    "for data, expected in zip(data_count,expected_counts):\n",
    "    chi_square = math.pow(data - expected, 2)\n",
    "    chi_square_stat += chi_square / expected\n",
    "\n",
    "print(\"\\nChi-squared Test Statistic = {:.3f}\".format(chi_square_stat))\n",
    "print(\"Critical value at a P-value of 0.05 is 15.51.\")"
   ]
  },
  {
   "cell_type": "markdown",
   "metadata": {},
   "source": [
    "Since our chi-square test statistic of 9.50 was less than the critical calue of 15.15 we fail to reject the null hypothesis. We conclude that the income tax data from Urban Ministries of Durham does not provide sufficient evidence to claim that the non-for-profit engages in fraudulent behavior when reporting taxes. One of the the limitations from this analysis was that we had few observations. One of the recommendations for the test is to have at least 50 obs but in this case we had only 12. "
   ]
  },
  {
   "cell_type": "markdown",
   "metadata": {},
   "source": [
    "**Part 2**\n",
    "\n",
    "Count the number of patients that came in with a condition (e.g. - mental health problem) and left with (1) none, (2) the same, or (3) with more problems. The change in health related conditions will be illustrated using bar-plots, stratified by ethnicity in R-studio."
   ]
  },
  {
   "cell_type": "code",
   "execution_count": 40,
   "metadata": {},
   "outputs": [],
   "source": [
    "# Import Client Data\n",
    "my_client = pd.read_csv(\"https://raw.githubusercontent.com/biodatascience/datasci611/gh-pages/data/project2_2019/CLIENT_191102.tsv\", sep = '\\t')\n",
    "my_disability_entry = pd.read_csv(\"https://raw.githubusercontent.com/biodatascience/datasci611/gh-pages/data/project2_2019/DISABILITY_ENTRY_191102.tsv\", sep = '\\t')\n",
    "my_disability_exit = pd.read_csv(\"https://raw.githubusercontent.com/biodatascience/datasci611/gh-pages/data/project2_2019/DISABILITY_EXIT_191102.tsv\", sep = '\\t')"
   ]
  },
  {
   "cell_type": "code",
   "execution_count": null,
   "metadata": {},
   "outputs": [],
   "source": []
  }
 ],
 "metadata": {
  "kernelspec": {
   "display_name": "Python 3",
   "language": "python",
   "name": "python3"
  }
 },
 "nbformat": 4,
 "nbformat_minor": 2
}
