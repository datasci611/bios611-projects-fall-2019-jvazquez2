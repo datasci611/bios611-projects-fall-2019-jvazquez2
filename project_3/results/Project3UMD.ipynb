{
 "cells": [
  {
   "cell_type": "markdown",
   "metadata": {},
   "source": [
    "# Project 3: Urban Ministries of Durham\n",
    "**Author: Jesus Vazquez**\n",
    "\n",
    "## Background Description\n",
    "\n",
    "Urban Ministries of Durham assist around 6,000 people each year who need food, shelter, clothing and/or supportive services. Some of the programs that they offer is a (1) community shelter where people are given a place to sleep and assistance to help them find a home, a (2) Community Café that serves three meals a day, seven days a week, 365 days a year, and a (3) food and clothing closet for those that either need food or clothing. \n",
    "\n",
    "## Motivation\n",
    "\n",
    "Just as with any other organization, validation of the organization efforts is needed to understand if Urban Minisitries of Durham is doing a good job at helping people transform their lives. Having this information at hand when meeting with donors can give a sense of security that their donations are not going to waste. Not only are the efforts of counselors into helping homeless find a home important but one should also consider how finances are being managed at the homesless shelter. For this reason the tax records will be examined to show if there are any signs of fradulent behavior. To inspect the work of counselors, this project will examine if the shelter reduces the number of diabilities reported by new-incomers by the time they find a home.\n",
    "\n",
    "## Approach\n",
    "\n",
    "To determine the financial performance of the organization from the Urban Ministries of Durham the first digit of the net income, expenses and income-expenses will be considered. Theoretically, this should follow a Bendford distribution and any deviations from this distribution would suggest fabricated numbers. For the second part of the project, we will count the number of patients that came in with a condition (e.g. - mental health problem) and left with (1) none, (2) the same, or (3) with more problems. The change in health related conditions will be illustrated using bar-plots, stratified by ethnicity."
   ]
  },
  {
   "cell_type": "code",
   "execution_count": 1,
   "metadata": {},
   "outputs": [],
   "source": [
    "# Importing packages \n",
    "import numpy as np\n",
    "from scipy import stats\n",
    "import scipy\n",
    "import pandas as pd\n",
    "import sys\n",
    "import math"
   ]
  },
  {
   "cell_type": "markdown",
   "metadata": {},
   "source": [
    "**Part 1**\n",
    "\n",
    "Determine the financial performance of the organization from the Urban Ministries of Durham the first digit of the net income, expenses and income-expenses will be considered. Theoretically, this should follow a Bendford distribution and any deviations from this distribution would suggest fabricated numbers. This part of the project conducts the statistical analysis and R-studio will create the graph."
   ]
  },
  {
   "cell_type": "code",
   "execution_count": 2,
   "metadata": {},
   "outputs": [],
   "source": [
    "# Import Data Tax Data \n",
    "df = pd.read_csv(r'C:\\Users\\15056\\Documents\\BIOS611\\bios611-projects-fall-2019-jvazquez2\\project_3\\data\\IRS.csv')\n",
    "df = df[df.Net >= 0]\n",
    "data = df['Net']"
   ]
  },
  {
   "cell_type": "markdown",
   "metadata": {},
   "source": [
    "The below code will count the first digit of each number. This part of the project was \n",
    "facilitated by Elena C. You can find the original code in her Github page: https://github.com/eleprocha/Benford-s-Law_python_code/blob/master/code Additional modifications of the code can be found below."
   ]
  },
  {
   "cell_type": "code",
   "execution_count": 3,
   "metadata": {},
   "outputs": [],
   "source": [
    "# Counting the first digit\n",
    "def count_first_digit(data_str):\n",
    "    mask=df[data_str]>1.\n",
    "    data=list(df[mask][data_str])\n",
    "    for i in range(len(data)):\n",
    "        while data[i]>10:\n",
    "            data[i]=data[i]/10\n",
    "    first_digits=[int(x) for x in sorted(data)]\n",
    "    unique=(set(first_digits))#a list with unique values of first_digit list\n",
    "    data_count=[]\n",
    "    for i in unique:\n",
    "        count=first_digits.count(i)\n",
    "        data_count.append(count)\n",
    "    total_count=sum(data_count)\n",
    "    data_percentage=[(i/total_count)*100 for i in data_count]\n",
    "    return  total_count,data_count, data_percentage\n",
    "\n",
    "total_count, data_count_pre, data_percentage_pre = count_first_digit(\"Net\")\n",
    "\n",
    "# In this case data_count_pre and data_percentage_pre have the format of [1,3,4,5,6,8]. \n",
    "# Need to add zeros for 2, 7, 9 \n",
    "data_count = []\n",
    "data_percentage = []\n",
    "numbers = []\n",
    "j = 0\n",
    "for i in range(1,10):\n",
    "    numbers.append(i)\n",
    "    if i in (2,7,9):\n",
    "        data_count.append(0)\n",
    "        data_percentage.append(0)\n",
    "    else:\n",
    "        data_count.append(data_count_pre[j])\n",
    "        data_percentage.append(data_percentage_pre[j])\n",
    "        j = j+1\n",
    "            \n",
    "            \n",
    "# Benford's Law percentages for leading digits 1-9\n",
    "BENFORD = [30.1, 17.6, 12.5, 9.7, 7.9, 6.7, 5.8, 5.1, 4.6]"
   ]
  },
  {
   "cell_type": "markdown",
   "metadata": {},
   "source": [
    "**Large Sample Theory**"
   ]
  },
  {
   "cell_type": "code",
   "execution_count": 4,
   "metadata": {},
   "outputs": [
    {
     "name": "stdout",
     "output_type": "stream",
     "text": [
      "\n",
      "Chi-squared Test Statistic = 9.500\n",
      "Critical value at a P-value of 0.05 is 15.51.\n"
     ]
    }
   ],
   "source": [
    "# Get the expected number of counts\n",
    "expected_counts=[round(p * total_count / 100) for p in BENFORD]\n",
    "\n",
    "# Observed vs Expected  \n",
    "chi_square_stat = 0  # chi square test statistic\n",
    "for data, expected in zip(data_count,expected_counts):\n",
    "    chi_square = math.pow(data - expected, 2)\n",
    "    chi_square_stat += chi_square / expected\n",
    "\n",
    "print(\"\\nChi-squared Test Statistic = {:.3f}\".format(chi_square_stat))\n",
    "print(\"Critical value at a P-value of 0.05 is 15.51.\")"
   ]
  },
  {
   "cell_type": "markdown",
   "metadata": {},
   "source": [
    "Since our chi-square test statistic of 9.50 was less than the critical calue of 15.15 we fail to reject the null hypothesis. We conclude that the income tax data from Urban Ministries of Durham does not provide sufficient evidence to claim that the non-for-profit engages in fraudulent behavior when reporting taxes. One of the the limitations from this analysis was that we had few observations. One of the recommendations for the test is to have at least 50 obs but in this case we had only 12. "
   ]
  },
  {
   "cell_type": "markdown",
   "metadata": {},
   "source": [
    "**Small Sample Theory** \n",
    "\n",
    "Since n is small we will be using the Wilcoxon Rank Sum Test to verify that the two distributions are identical. "
   ]
  },
  {
   "cell_type": "code",
   "execution_count": 5,
   "metadata": {},
   "outputs": [
    {
     "name": "stdout",
     "output_type": "stream",
     "text": [
      "actual counts are [4, 0, 1, 1, 3, 2, 0, 1, 0]\n",
      "expected counts are [4, 2, 2, 1, 1, 1, 1, 1, 1]\n"
     ]
    },
    {
     "data": {
      "text/plain": [
       "MannwhitneyuResult(statistic=32.5, pvalue=0.2384481543359947)"
      ]
     },
     "execution_count": 5,
     "metadata": {},
     "output_type": "execute_result"
    }
   ],
   "source": [
    "print(\"actual counts are\", data_count)\n",
    "print(\"expected counts are\", expected_counts)\n",
    "\n",
    "# Wilxocon Rank-Sum Test\n",
    "scipy.stats.mannwhitneyu(data_count,expected_counts)"
   ]
  },
  {
   "cell_type": "markdown",
   "metadata": {},
   "source": [
    "Just as with the Chi-Square test, the Wilcoxon Rank Sum Test shows that the data does not provide sufficient data to reject the assumption that the expected and the observed values follows the same distribution. We can conclude that the income tax reports from Urban Ministries of Durham do not provide sufficient data to suggest that the non-for-profit engaged in disingenuous tax filing behavior. "
   ]
  },
  {
   "cell_type": "code",
   "execution_count": 6,
   "metadata": {},
   "outputs": [],
   "source": [
    "# Save data and export to R-Studio to create graphs\n",
    "out_tax = pd.DataFrame(columns=['Number', 'Empirical Percentage', 'Benford Distribution'])\n",
    "out_tax['Number'] = numbers\n",
    "out_tax['Empirical Percentage'] = data_percentage\n",
    "out_tax['Benford Percentage'] = BENFORD\n",
    "\n",
    "out_tax = pd.melt(out_tax, id_vars =['Number'], value_vars =['Empirical Percentage', 'Benford Percentage']) \n",
    "\n",
    "# Exporting data to folder data under projects\n",
    "out_tax.to_csv('../data/tax_data_graph.csv')"
   ]
  },
  {
   "cell_type": "markdown",
   "metadata": {},
   "source": [
    "**Part 2**\n",
    "\n",
    "Count the number of patients that came in with a condition (e.g. - mental health problem) and left with (1) none, (2) the same, or (3) with more problems. The change in health related conditions will be illustrated using bar-plots, stratified by ethnicity in R-studio."
   ]
  },
  {
   "cell_type": "code",
   "execution_count": 7,
   "metadata": {},
   "outputs": [],
   "source": [
    "# Import Client Data\n",
    "my_client_original = pd.read_csv(\"https://raw.githubusercontent.com/biodatascience/datasci611/gh-pages/data/project2_2019/CLIENT_191102.tsv\", sep = '\\t')\n",
    "my_disability_entry_original = pd.read_csv(\"https://raw.githubusercontent.com/biodatascience/datasci611/gh-pages/data/project2_2019/DISABILITY_ENTRY_191102.tsv\", sep = '\\t')\n",
    "my_disability_exit_original = pd.read_csv(\"https://raw.githubusercontent.com/biodatascience/datasci611/gh-pages/data/project2_2019/DISABILITY_EXIT_191102.tsv\", sep = '\\t')"
   ]
  },
  {
   "cell_type": "code",
   "execution_count": 8,
   "metadata": {},
   "outputs": [
    {
     "name": "stderr",
     "output_type": "stream",
     "text": [
      "C:\\Users\\15056\\Anaconda3\\lib\\site-packages\\pandas\\core\\frame.py:4223: SettingWithCopyWarning: \n",
      "A value is trying to be set on a copy of a slice from a DataFrame\n",
      "\n",
      "See the caveats in the documentation: http://pandas.pydata.org/pandas-docs/stable/user_guide/indexing.html#returning-a-view-versus-a-copy\n",
      "  return super().rename(**kwargs)\n"
     ]
    }
   ],
   "source": [
    "# Keep only variables of interesta and merge all datasets\n",
    "my_client = my_client_original[['Client ID', 'Client Age at Entry', 'Client Age at Exit', 'Client Gender', 'Client Primary Race', 'Client Ethnicity']]\n",
    "my_disability_entry = my_disability_entry_original[['Client ID','Disability Determination (Entry)', 'Disability Type (Entry)']]\n",
    "my_disability_entry.rename(columns = {'Disability Type (Entry)':'Disability Type'}, inplace = True)\n",
    "my_disability_exit = my_disability_exit_original[['Client ID','Disability Determination (Exit)', 'Disability Type (Exit)']] \n",
    "my_disability_exit.rename(columns = {'Disability Type (Exit)':'Disability Type'}, inplace = True)"
   ]
  },
  {
   "cell_type": "code",
   "execution_count": 15,
   "metadata": {},
   "outputs": [
    {
     "name": "stderr",
     "output_type": "stream",
     "text": [
      "C:\\Users\\15056\\Anaconda3\\lib\\site-packages\\ipykernel_launcher.py:7: SettingWithCopyWarning: \n",
      "A value is trying to be set on a copy of a slice from a DataFrame\n",
      "\n",
      "See the caveats in the documentation: http://pandas.pydata.org/pandas-docs/stable/user_guide/indexing.html#returning-a-view-versus-a-copy\n",
      "  import sys\n"
     ]
    }
   ],
   "source": [
    "# Merge data by client ID\n",
    "my_disability = pd.merge(my_disability_entry, my_disability_exit, on=['Disability Type','Client ID'], how = 'right')\n",
    "my_disability.drop_duplicates(keep=False,inplace=True)\n",
    "\n",
    "# Flag those patients who got a disability while at the UMD\n",
    "my_disability['GotDisability'] = 0\n",
    "my_disability.GotDisability[(my_disability['Disability Determination (Entry)'] == 'No (HUD)') & (my_disability['Disability Determination (Exit)'] == 'Yes (HUD)')] = 1\n",
    "my_disability.mean()\n",
    "\n",
    "#Making a subset of those who got a disability \n",
    "my_disability = my_disability[my_disability.GotDisability == 1]\n",
    "my_disability.sort_values(by=['Client ID'], ascending=True)\n",
    "\n",
    "#Getting the socio-demographic characteristics of patients\n",
    "my_patients = pd.merge(my_disability, my_client, on = 'Client ID', how = 'left')\n",
    "my_patients.to_csv('../data/patients_data_graph.csv')"
   ]
  },
  {
   "cell_type": "code",
   "execution_count": 10,
   "metadata": {},
   "outputs": [],
   "source": [
    "# Summary at type and gender \n",
    "mysummary_overall = my_patients.groupby(['Client Gender', 'Disability Type']).size()\n",
    "myfile = open(\"../data/patients_data_summary.txt\",\"w\") \n",
    "myfile.write(str(mysummary_overall)) \n",
    "myfile.close() "
   ]
  },
  {
   "cell_type": "code",
   "execution_count": 14,
   "metadata": {},
   "outputs": [
    {
     "data": {
      "text/plain": [
       "Disability Type\n",
       "Alcohol Abuse (HUD)                   2\n",
       "Both Alcohol and Drug Abuse (HUD)     3\n",
       "Chronic Health Condition (HUD)        7\n",
       "Developmental (HUD)                   1\n",
       "Drug Abuse (HUD)                      2\n",
       "HIV/AIDS (HUD)                        2\n",
       "Mental Health Problem (HUD)          14\n",
       "Physical (HUD)                        7\n",
       "dtype: int64"
      ]
     },
     "execution_count": 14,
     "metadata": {},
     "output_type": "execute_result"
    }
   ],
   "source": [
    "# Summary at type\n",
    "mysummary_overall_type = my_patients.groupby(['Disability Type']).size()\n",
    "myfile = open(\"../data/patients_data_summary_type.txt\",\"w\") \n",
    "myfile.write(str(mysummary_overall_type)) \n",
    "myfile.close() \n",
    "\n",
    "mysummary_overall_type"
   ]
  }
 ],
 "metadata": {
  "kernelspec": {
   "display_name": "Python 3",
   "language": "python",
   "name": "python3"
  },
  "language_info": {
   "codemirror_mode": {
    "name": "ipython",
    "version": 3
   },
   "file_extension": ".py",
   "mimetype": "text/x-python",
   "name": "python",
   "nbconvert_exporter": "python",
   "pygments_lexer": "ipython3",
   "version": "3.7.4"
  }
 },
 "nbformat": 4,
 "nbformat_minor": 2
}
